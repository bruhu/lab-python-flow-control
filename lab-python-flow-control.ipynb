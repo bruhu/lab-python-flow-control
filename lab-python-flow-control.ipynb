{
 "cells": [
  {
   "cell_type": "markdown",
   "id": "d3bfc191-8885-42ee-b0a0-bbab867c6f9f",
   "metadata": {
    "tags": []
   },
   "source": [
    "# Lab | Flow Control"
   ]
  },
  {
   "cell_type": "markdown",
   "id": "3851fcd1-cf98-4653-9c89-e003b7ec9400",
   "metadata": {},
   "source": [
    "## Exercise: Managing Customer Orders Optimized\n",
    "\n",
    "In the last lab, you were starting an online store that sells various products. To ensure smooth operations, you developed a program that manages customer orders and inventory.\n",
    "\n",
    "You did so without using flow control. Let's go a step further and improve this code.\n",
    "\n",
    "Follow the steps below to complete the exercise:\n",
    "\n",
    "1. Look at your code from the lab data structures, and improve repeated code with loops.\n",
    "\n",
    "2. Instead of asking the user to input the name of three products that a customer wants to order, do the following:\n",
    "    \n",
    "    a. Prompt the user to enter the name of a product that a customer wants to order.\n",
    "    \n",
    "    b. Add the product name to the \"customer_orders\" set.\n",
    "    \n",
    "    c. Ask the user if they want to add another product (yes/no).\n",
    "    \n",
    "    d. Continue the loop until the user does not want to add another product.\n",
    "\n",
    "3. Instead of updating the inventory by subtracting 1 from the quantity of each product, only do it for  the products that were ordered (those in \"customer_orders\")."
   ]
  },
  {
   "cell_type": "code",
   "execution_count": 4,
   "id": "107082b6-9e64-465d-9200-6718fa946e4b",
   "metadata": {},
   "outputs": [],
   "source": [
    "products = [\"t-shirt\", \"mug\", \"hat\", \"book\", \"keychain\"]\n",
    "inventory = {}"
   ]
  },
  {
   "cell_type": "code",
   "execution_count": 6,
   "id": "f5a353b0-d819-473b-ac0d-b58d9fa113cd",
   "metadata": {},
   "outputs": [
    {
     "name": "stdin",
     "output_type": "stream",
     "text": [
      "Please enter the amount of t-shirts available in the inventory:  231\n",
      "Please enter the amount of mugs available in the inventory:  123\n",
      "Please enter the amount of hats available in the inventory:  123\n",
      "Please enter the amount of books available in the inventory:  11\n",
      "Please enter the amount of keychains available in the inventory:  1333\n"
     ]
    },
    {
     "name": "stdout",
     "output_type": "stream",
     "text": [
      "t-shirts: 231\n",
      "mugs: 123\n",
      "hats: 123\n",
      "books: 11\n",
      "keychains: 1333\n"
     ]
    }
   ],
   "source": [
    "for product in products:\n",
    "    quantity = input(f\"Please enter the amount of {product}s available in the inventory: \")\n",
    "    inventory[product] = int(quantity)\n",
    "\n",
    "for item in inventory:\n",
    "    print(f\"{item}s: {inventory[item]}\")"
   ]
  },
  {
   "cell_type": "code",
   "execution_count": 8,
   "id": "cd1a4f01-5b99-4e5a-946f-faed2220206d",
   "metadata": {},
   "outputs": [
    {
     "name": "stdin",
     "output_type": "stream",
     "text": [
      "What product would you like to order? mug\n",
      "Wouldd you like to add another product? [yes/no] na\n"
     ]
    },
    {
     "name": "stdout",
     "output_type": "stream",
     "text": [
      "Customer orders: {'mug'}\n"
     ]
    }
   ],
   "source": [
    "customer_orders = set()\n",
    "\n",
    "while True:\n",
    "    product = input(\"What product would you like to order?\")\n",
    "    if product in products:\n",
    "        customer_orders.add(product)\n",
    "    else:\n",
    "        print(\"This is not in our inventory. Please enter an existing product.\")\n",
    "        continue\n",
    "    add_product = input(\"Would you like to add another product? [yes/no]\").strip().lower()\n",
    "    if add_product != \"yes\":\n",
    "        break\n",
    "    \n",
    "print(\"Customer orders:\", customer_orders)"
   ]
  },
  {
   "cell_type": "code",
   "execution_count": null,
   "id": "38675e78-392c-45a7-b61d-6c6e0015ed72",
   "metadata": {},
   "outputs": [],
   "source": [
    "# Calculate total products ordered\n",
    "total_products_ordered = len(customer_orders)\n",
    "\n",
    "# Calculate percentage of products ordered\n",
    "total_available = len(products)\n",
    "percentage_ordered = (total_products_ordered / total_available) * 100\n",
    "\n",
    "# Store statistics in a tuple\n",
    "order_status = (total_products_ordered, percentage_ordered)\n",
    "\n",
    "print(\"Order Statistics:\", order_status, \"\\nTotal Products Ordered:\", total_products_ordered, \"\\nPercentage of Products Ordered:\", percentage_ordered)"
   ]
  },
  {
   "cell_type": "code",
   "execution_count": null,
   "id": "64142164-d8d0-4ede-a1db-62b0b1d727b2",
   "metadata": {},
   "outputs": [],
   "source": [
    "order_status = ()\n",
    "\n",
    "# Update inventory after order is placed\n",
    "\n",
    "for product in customer_orders:\n",
    "    if product in inventory and inventory[product] > 0:\n",
    "        inventory[product] -= 1\n",
    "\n",
    "# Print updated inventory\n",
    "\n",
    "for item in inventory:\n",
    "    print(f\"There are {inventory[item]} {item}s in the inventory at the moment.\")\n",
    "    print(\"full inventory:\", inventory)"
   ]
  }
 ],
 "metadata": {
  "kernelspec": {
   "display_name": "Python 3 (ipykernel)",
   "language": "python",
   "name": "python3"
  },
  "language_info": {
   "codemirror_mode": {
    "name": "ipython",
    "version": 3
   },
   "file_extension": ".py",
   "mimetype": "text/x-python",
   "name": "python",
   "nbconvert_exporter": "python",
   "pygments_lexer": "ipython3",
   "version": "3.12.2"
  }
 },
 "nbformat": 4,
 "nbformat_minor": 5
}
